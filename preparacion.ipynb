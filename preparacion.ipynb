{
  "nbformat": 4,
  "nbformat_minor": 0,
  "metadata": {
    "colab": {
      "provenance": [],
      "authorship_tag": "ABX9TyNZcxpzFc3/OOeK5AlDJ8vA",
      "include_colab_link": true
    },
    "kernelspec": {
      "name": "python3",
      "display_name": "Python 3"
    },
    "language_info": {
      "name": "python"
    }
  },
  "cells": [
    {
      "cell_type": "markdown",
      "metadata": {
        "id": "view-in-github",
        "colab_type": "text"
      },
      "source": [
        "<a href=\"https://colab.research.google.com/github/davidriveraarbelaez/Bases_de_Datos_II/blob/main/preparacion.ipynb\" target=\"_parent\"><img src=\"https://colab.research.google.com/assets/colab-badge.svg\" alt=\"Open In Colab\"/></a>"
      ]
    },
    {
      "cell_type": "code",
      "source": [
        "# Cargar el dataset\n",
        "import pandas as pd\n",
        "df = pd.read_csv('/content/movie_metadata.csv')\n",
        "#df.head()\n",
        "df.info()"
      ],
      "metadata": {
        "colab": {
          "base_uri": "https://localhost:8080/"
        },
        "id": "YAqkX9T-1IM4",
        "outputId": "3521125c-18b9-4187-b56f-10c0ea2e3640"
      },
      "execution_count": 5,
      "outputs": [
        {
          "output_type": "stream",
          "name": "stdout",
          "text": [
            "<class 'pandas.core.frame.DataFrame'>\n",
            "RangeIndex: 5043 entries, 0 to 5042\n",
            "Data columns (total 28 columns):\n",
            " #   Column                     Non-Null Count  Dtype  \n",
            "---  ------                     --------------  -----  \n",
            " 0   color                      5024 non-null   object \n",
            " 1   director_name              4939 non-null   object \n",
            " 2   num_critic_for_reviews     4993 non-null   float64\n",
            " 3   duration                   5028 non-null   float64\n",
            " 4   director_facebook_likes    4939 non-null   float64\n",
            " 5   actor_3_facebook_likes     5020 non-null   float64\n",
            " 6   actor_2_name               5030 non-null   object \n",
            " 7   actor_1_facebook_likes     5036 non-null   float64\n",
            " 8   gross                      4159 non-null   float64\n",
            " 9   genres                     5043 non-null   object \n",
            " 10  actor_1_name               5036 non-null   object \n",
            " 11  movie_title                5043 non-null   object \n",
            " 12  num_voted_users            5043 non-null   int64  \n",
            " 13  cast_total_facebook_likes  5043 non-null   int64  \n",
            " 14  actor_3_name               5020 non-null   object \n",
            " 15  facenumber_in_poster       5030 non-null   float64\n",
            " 16  plot_keywords              4890 non-null   object \n",
            " 17  movie_imdb_link            5043 non-null   object \n",
            " 18  num_user_for_reviews       5022 non-null   float64\n",
            " 19  language                   5029 non-null   object \n",
            " 20  country                    5038 non-null   object \n",
            " 21  content_rating             4740 non-null   object \n",
            " 22  budget                     5043 non-null   object \n",
            " 23  title_year                 4935 non-null   float64\n",
            " 24  actor_2_facebook_likes     5030 non-null   float64\n",
            " 25  imdb_score                 5043 non-null   float64\n",
            " 26  aspect_ratio               4714 non-null   float64\n",
            " 27  movie_facebook_likes       5043 non-null   int64  \n",
            "dtypes: float64(12), int64(3), object(13)\n",
            "memory usage: 1.1+ MB\n"
          ]
        }
      ]
    },
    {
      "cell_type": "code",
      "execution_count": 6,
      "metadata": {
        "colab": {
          "base_uri": "https://localhost:8080/",
          "height": 397
        },
        "id": "rtxhnSaXzsrR",
        "outputId": "1e404f36-cbae-4209-8d76-b6a597bfd144"
      },
      "outputs": [
        {
          "output_type": "execute_result",
          "data": {
            "text/plain": [
              "0    237000000.0$\n",
              "1    300000000.0$\n",
              "2    245000000.0$\n",
              "3    250000000.0$\n",
              "4            0.0$\n",
              "5    263700000.0$\n",
              "6    258000000.0$\n",
              "7    260000000.0$\n",
              "8    250000000.0$\n",
              "9    250000000.0$\n",
              "Name: budget, dtype: object"
            ],
            "text/html": [
              "<div>\n",
              "<style scoped>\n",
              "    .dataframe tbody tr th:only-of-type {\n",
              "        vertical-align: middle;\n",
              "    }\n",
              "\n",
              "    .dataframe tbody tr th {\n",
              "        vertical-align: top;\n",
              "    }\n",
              "\n",
              "    .dataframe thead th {\n",
              "        text-align: right;\n",
              "    }\n",
              "</style>\n",
              "<table border=\"1\" class=\"dataframe\">\n",
              "  <thead>\n",
              "    <tr style=\"text-align: right;\">\n",
              "      <th></th>\n",
              "      <th>budget</th>\n",
              "    </tr>\n",
              "  </thead>\n",
              "  <tbody>\n",
              "    <tr>\n",
              "      <th>0</th>\n",
              "      <td>237000000.0$</td>\n",
              "    </tr>\n",
              "    <tr>\n",
              "      <th>1</th>\n",
              "      <td>300000000.0$</td>\n",
              "    </tr>\n",
              "    <tr>\n",
              "      <th>2</th>\n",
              "      <td>245000000.0$</td>\n",
              "    </tr>\n",
              "    <tr>\n",
              "      <th>3</th>\n",
              "      <td>250000000.0$</td>\n",
              "    </tr>\n",
              "    <tr>\n",
              "      <th>4</th>\n",
              "      <td>0.0$</td>\n",
              "    </tr>\n",
              "    <tr>\n",
              "      <th>5</th>\n",
              "      <td>263700000.0$</td>\n",
              "    </tr>\n",
              "    <tr>\n",
              "      <th>6</th>\n",
              "      <td>258000000.0$</td>\n",
              "    </tr>\n",
              "    <tr>\n",
              "      <th>7</th>\n",
              "      <td>260000000.0$</td>\n",
              "    </tr>\n",
              "    <tr>\n",
              "      <th>8</th>\n",
              "      <td>250000000.0$</td>\n",
              "    </tr>\n",
              "    <tr>\n",
              "      <th>9</th>\n",
              "      <td>250000000.0$</td>\n",
              "    </tr>\n",
              "  </tbody>\n",
              "</table>\n",
              "</div><br><label><b>dtype:</b> object</label>"
            ]
          },
          "metadata": {},
          "execution_count": 6
        }
      ],
      "source": [
        "df['budget'].head(10)"
      ]
    },
    {
      "cell_type": "code",
      "source": [
        "print(df.columns)"
      ],
      "metadata": {
        "colab": {
          "base_uri": "https://localhost:8080/"
        },
        "id": "bklmyQ3v2jCR",
        "outputId": "867f2c45-7ad4-4836-a321-e4afdafd7dc9"
      },
      "execution_count": 7,
      "outputs": [
        {
          "output_type": "stream",
          "name": "stdout",
          "text": [
            "Index(['color', 'director_name', 'num_critic_for_reviews', 'duration',\n",
            "       'director_facebook_likes', 'actor_3_facebook_likes', 'actor_2_name',\n",
            "       'actor_1_facebook_likes', 'gross', 'genres', 'actor_1_name',\n",
            "       'movie_title', 'num_voted_users', 'cast_total_facebook_likes',\n",
            "       'actor_3_name', 'facenumber_in_poster', 'plot_keywords',\n",
            "       'movie_imdb_link', 'num_user_for_reviews', 'language', 'country',\n",
            "       'content_rating', 'budget', 'title_year', 'actor_2_facebook_likes',\n",
            "       'imdb_score', 'aspect_ratio', 'movie_facebook_likes'],\n",
            "      dtype='object')\n"
          ]
        }
      ]
    },
    {
      "cell_type": "code",
      "source": [
        "df.isnull().sum()"
      ],
      "metadata": {
        "colab": {
          "base_uri": "https://localhost:8080/",
          "height": 961
        },
        "id": "lVQIvx8j4ND6",
        "outputId": "cd83be38-2c47-412e-f4ce-3f5c075ed0d9"
      },
      "execution_count": 8,
      "outputs": [
        {
          "output_type": "execute_result",
          "data": {
            "text/plain": [
              "color                         19\n",
              "director_name                104\n",
              "num_critic_for_reviews        50\n",
              "duration                      15\n",
              "director_facebook_likes      104\n",
              "actor_3_facebook_likes        23\n",
              "actor_2_name                  13\n",
              "actor_1_facebook_likes         7\n",
              "gross                        884\n",
              "genres                         0\n",
              "actor_1_name                   7\n",
              "movie_title                    0\n",
              "num_voted_users                0\n",
              "cast_total_facebook_likes      0\n",
              "actor_3_name                  23\n",
              "facenumber_in_poster          13\n",
              "plot_keywords                153\n",
              "movie_imdb_link                0\n",
              "num_user_for_reviews          21\n",
              "language                      14\n",
              "country                        5\n",
              "content_rating               303\n",
              "budget                         0\n",
              "title_year                   108\n",
              "actor_2_facebook_likes        13\n",
              "imdb_score                     0\n",
              "aspect_ratio                 329\n",
              "movie_facebook_likes           0\n",
              "dtype: int64"
            ],
            "text/html": [
              "<div>\n",
              "<style scoped>\n",
              "    .dataframe tbody tr th:only-of-type {\n",
              "        vertical-align: middle;\n",
              "    }\n",
              "\n",
              "    .dataframe tbody tr th {\n",
              "        vertical-align: top;\n",
              "    }\n",
              "\n",
              "    .dataframe thead th {\n",
              "        text-align: right;\n",
              "    }\n",
              "</style>\n",
              "<table border=\"1\" class=\"dataframe\">\n",
              "  <thead>\n",
              "    <tr style=\"text-align: right;\">\n",
              "      <th></th>\n",
              "      <th>0</th>\n",
              "    </tr>\n",
              "  </thead>\n",
              "  <tbody>\n",
              "    <tr>\n",
              "      <th>color</th>\n",
              "      <td>19</td>\n",
              "    </tr>\n",
              "    <tr>\n",
              "      <th>director_name</th>\n",
              "      <td>104</td>\n",
              "    </tr>\n",
              "    <tr>\n",
              "      <th>num_critic_for_reviews</th>\n",
              "      <td>50</td>\n",
              "    </tr>\n",
              "    <tr>\n",
              "      <th>duration</th>\n",
              "      <td>15</td>\n",
              "    </tr>\n",
              "    <tr>\n",
              "      <th>director_facebook_likes</th>\n",
              "      <td>104</td>\n",
              "    </tr>\n",
              "    <tr>\n",
              "      <th>actor_3_facebook_likes</th>\n",
              "      <td>23</td>\n",
              "    </tr>\n",
              "    <tr>\n",
              "      <th>actor_2_name</th>\n",
              "      <td>13</td>\n",
              "    </tr>\n",
              "    <tr>\n",
              "      <th>actor_1_facebook_likes</th>\n",
              "      <td>7</td>\n",
              "    </tr>\n",
              "    <tr>\n",
              "      <th>gross</th>\n",
              "      <td>884</td>\n",
              "    </tr>\n",
              "    <tr>\n",
              "      <th>genres</th>\n",
              "      <td>0</td>\n",
              "    </tr>\n",
              "    <tr>\n",
              "      <th>actor_1_name</th>\n",
              "      <td>7</td>\n",
              "    </tr>\n",
              "    <tr>\n",
              "      <th>movie_title</th>\n",
              "      <td>0</td>\n",
              "    </tr>\n",
              "    <tr>\n",
              "      <th>num_voted_users</th>\n",
              "      <td>0</td>\n",
              "    </tr>\n",
              "    <tr>\n",
              "      <th>cast_total_facebook_likes</th>\n",
              "      <td>0</td>\n",
              "    </tr>\n",
              "    <tr>\n",
              "      <th>actor_3_name</th>\n",
              "      <td>23</td>\n",
              "    </tr>\n",
              "    <tr>\n",
              "      <th>facenumber_in_poster</th>\n",
              "      <td>13</td>\n",
              "    </tr>\n",
              "    <tr>\n",
              "      <th>plot_keywords</th>\n",
              "      <td>153</td>\n",
              "    </tr>\n",
              "    <tr>\n",
              "      <th>movie_imdb_link</th>\n",
              "      <td>0</td>\n",
              "    </tr>\n",
              "    <tr>\n",
              "      <th>num_user_for_reviews</th>\n",
              "      <td>21</td>\n",
              "    </tr>\n",
              "    <tr>\n",
              "      <th>language</th>\n",
              "      <td>14</td>\n",
              "    </tr>\n",
              "    <tr>\n",
              "      <th>country</th>\n",
              "      <td>5</td>\n",
              "    </tr>\n",
              "    <tr>\n",
              "      <th>content_rating</th>\n",
              "      <td>303</td>\n",
              "    </tr>\n",
              "    <tr>\n",
              "      <th>budget</th>\n",
              "      <td>0</td>\n",
              "    </tr>\n",
              "    <tr>\n",
              "      <th>title_year</th>\n",
              "      <td>108</td>\n",
              "    </tr>\n",
              "    <tr>\n",
              "      <th>actor_2_facebook_likes</th>\n",
              "      <td>13</td>\n",
              "    </tr>\n",
              "    <tr>\n",
              "      <th>imdb_score</th>\n",
              "      <td>0</td>\n",
              "    </tr>\n",
              "    <tr>\n",
              "      <th>aspect_ratio</th>\n",
              "      <td>329</td>\n",
              "    </tr>\n",
              "    <tr>\n",
              "      <th>movie_facebook_likes</th>\n",
              "      <td>0</td>\n",
              "    </tr>\n",
              "  </tbody>\n",
              "</table>\n",
              "</div><br><label><b>dtype:</b> int64</label>"
            ]
          },
          "metadata": {},
          "execution_count": 8
        }
      ]
    },
    {
      "cell_type": "code",
      "source": [
        "duplicados = df.duplicated().sum()\n",
        "print(duplicados)"
      ],
      "metadata": {
        "colab": {
          "base_uri": "https://localhost:8080/"
        },
        "id": "AdaEsht54fB5",
        "outputId": "9882fb7b-5bbb-4e6e-d2d6-fe56872ca616"
      },
      "execution_count": 11,
      "outputs": [
        {
          "output_type": "stream",
          "name": "stdout",
          "text": [
            "45\n"
          ]
        }
      ]
    },
    {
      "cell_type": "code",
      "source": [
        "duplicados_despues"
      ],
      "metadata": {
        "id": "mlcBT3yx5qln"
      },
      "execution_count": null,
      "outputs": []
    },
    {
      "cell_type": "code",
      "source": [
        "df_clean = df.drop_duplicates()\n",
        "duplicados_despues = df_clean.duplicated().sum()\n",
        "print(f\"Duplicados antes: {duplicados}, Duplicados después: {duplicados_despues} \" )"
      ],
      "metadata": {
        "colab": {
          "base_uri": "https://localhost:8080/"
        },
        "id": "Yv1ZESu34xuA",
        "outputId": "b9408cbc-4e39-4e48-a75c-e568421e756b"
      },
      "execution_count": 13,
      "outputs": [
        {
          "output_type": "stream",
          "name": "stdout",
          "text": [
            "Duplicados antes: 45, Duplicados después: 0 \n"
          ]
        }
      ]
    },
    {
      "cell_type": "code",
      "source": [
        "print(duplicados)"
      ],
      "metadata": {
        "colab": {
          "base_uri": "https://localhost:8080/"
        },
        "id": "wVAr3Gb_6Bci",
        "outputId": "d8ac8a31-30d3-4b1a-e230-9c62100e9782"
      },
      "execution_count": 14,
      "outputs": [
        {
          "output_type": "stream",
          "name": "stdout",
          "text": [
            "45\n"
          ]
        }
      ]
    },
    {
      "cell_type": "code",
      "source": [
        "print(df_clean)"
      ],
      "metadata": {
        "colab": {
          "base_uri": "https://localhost:8080/"
        },
        "id": "VI7Njbzz6RA4",
        "outputId": "bfc97e5e-bb4a-4e60-e2c1-83c1e2d8f1fa"
      },
      "execution_count": 16,
      "outputs": [
        {
          "output_type": "stream",
          "name": "stdout",
          "text": [
            "      color      director_name  num_critic_for_reviews  duration  \\\n",
            "0     Color      James Cameron                   723.0     178.0   \n",
            "1     Color     Gore Verbinski                   302.0     169.0   \n",
            "2     Color         Sam Mendes                   602.0     148.0   \n",
            "3     Color  Christopher Nolan                   813.0     164.0   \n",
            "4       NaN        Doug Walker                     NaN       NaN   \n",
            "...     ...                ...                     ...       ...   \n",
            "5038  Color        Scott Smith                     1.0      87.0   \n",
            "5039  Color                NaN                    43.0      43.0   \n",
            "5040  Color   Benjamin Roberds                    13.0      76.0   \n",
            "5041  Color        Daniel Hsia                    14.0     100.0   \n",
            "5042  Color           Jon Gunn                    43.0      90.0   \n",
            "\n",
            "      director_facebook_likes  actor_3_facebook_likes      actor_2_name  \\\n",
            "0                         0.0                   855.0  Joel David Moore   \n",
            "1                       563.0                  1000.0     Orlando Bloom   \n",
            "2                         0.0                   161.0      Rory Kinnear   \n",
            "3                     22000.0                 23000.0    Christian Bale   \n",
            "4                       131.0                     NaN        Rob Walker   \n",
            "...                       ...                     ...               ...   \n",
            "5038                      2.0                   318.0     Daphne Zuniga   \n",
            "5039                      NaN                   319.0     Valorie Curry   \n",
            "5040                      0.0                     0.0     Maxwell Moody   \n",
            "5041                      0.0                   489.0     Daniel Henney   \n",
            "5042                     16.0                    16.0  Brian Herzlinger   \n",
            "\n",
            "      actor_1_facebook_likes        gross                           genres  \\\n",
            "0                     1000.0  760505847.0  Action|Adventure|Fantasy|Sci-Fi   \n",
            "1                    40000.0  309404152.0         Action|Adventure|Fantasy   \n",
            "2                    11000.0  200074175.0        Action|Adventure|Thriller   \n",
            "3                    27000.0  448130642.0                  Action|Thriller   \n",
            "4                      131.0          NaN                      Documentary   \n",
            "...                      ...          ...                              ...   \n",
            "5038                   637.0          NaN                     Comedy|Drama   \n",
            "5039                   841.0          NaN     Crime|Drama|Mystery|Thriller   \n",
            "5040                     0.0          NaN            Drama|Horror|Thriller   \n",
            "5041                   946.0      10443.0             Comedy|Drama|Romance   \n",
            "5042                    86.0      85222.0                      Documentary   \n",
            "\n",
            "      ... num_user_for_reviews language  country  content_rating  \\\n",
            "0     ...               3054.0  English      USA           PG-13   \n",
            "1     ...               1238.0  English      USA           PG-13   \n",
            "2     ...                994.0  English       UK           PG-13   \n",
            "3     ...               2701.0  English      USA           PG-13   \n",
            "4     ...                  NaN      NaN      NaN             NaN   \n",
            "...   ...                  ...      ...      ...             ...   \n",
            "5038  ...                  6.0  English   Canada             NaN   \n",
            "5039  ...                359.0  English      USA           TV-14   \n",
            "5040  ...                  3.0  English      USA             NaN   \n",
            "5041  ...                  9.0  English      USA           PG-13   \n",
            "5042  ...                 84.0  English      USA              PG   \n",
            "\n",
            "            budget  title_year actor_2_facebook_likes imdb_score  \\\n",
            "0     237000000.0$      2009.0                  936.0        7.9   \n",
            "1     300000000.0$      2007.0                 5000.0        7.1   \n",
            "2     245000000.0$      2015.0                  393.0        6.8   \n",
            "3     250000000.0$      2012.0                23000.0        8.5   \n",
            "4             0.0$         NaN                   12.0        7.1   \n",
            "...            ...         ...                    ...        ...   \n",
            "5038          0.0$      2013.0                  470.0        7.7   \n",
            "5039          0.0$         NaN                  593.0        7.5   \n",
            "5040       1400.0$      2013.0                    0.0        6.3   \n",
            "5041          0.0$      2012.0                  719.0        6.3   \n",
            "5042       1100.0$      2004.0                   23.0        6.6   \n",
            "\n",
            "      aspect_ratio movie_facebook_likes  \n",
            "0             1.78                33000  \n",
            "1             2.35                    0  \n",
            "2             2.35                85000  \n",
            "3             2.35               164000  \n",
            "4              NaN                    0  \n",
            "...            ...                  ...  \n",
            "5038           NaN                   84  \n",
            "5039         16.00                32000  \n",
            "5040           NaN                   16  \n",
            "5041          2.35                  660  \n",
            "5042          1.85                  456  \n",
            "\n",
            "[4998 rows x 28 columns]\n"
          ]
        }
      ]
    },
    {
      "cell_type": "code",
      "source": [
        "df_clean = df_clean.dropna()\n",
        "print(df_clean)"
      ],
      "metadata": {
        "id": "QwAH-QLJ6mfl"
      },
      "execution_count": null,
      "outputs": []
    },
    {
      "cell_type": "code",
      "source": [],
      "metadata": {
        "id": "n-ywg3nE6Zww"
      },
      "execution_count": null,
      "outputs": []
    }
  ]
}